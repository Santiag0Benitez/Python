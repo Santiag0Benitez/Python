{
 "metadata": {
  "language_info": {
   "codemirror_mode": {
    "name": "ipython",
    "version": 3
   },
   "file_extension": ".py",
   "mimetype": "text/x-python",
   "name": "python",
   "nbconvert_exporter": "python",
   "pygments_lexer": "ipython3",
   "version": "3.9.2"
  },
  "orig_nbformat": 2,
  "kernelspec": {
   "name": "python392jvsc74a57bd0a6090c10249dce3eb8eaf528a23526f965e5162b4ac7cc89ad9e702c2b462fc1",
   "display_name": "Python 3.9.2 64-bit"
  },
  "metadata": {
   "interpreter": {
    "hash": "a6090c10249dce3eb8eaf528a23526f965e5162b4ac7cc89ad9e702c2b462fc1"
   }
  }
 },
 "nbformat": 4,
 "nbformat_minor": 2,
 "cells": [
  {
   "cell_type": "code",
   "execution_count": null,
   "metadata": {},
   "outputs": [],
   "source": [
    "for i in range(20):\n",
    "    print(\"Nalgas\")\n",
    "print(\"Se acabó\")    "
   ]
  },
  {
   "cell_type": "code",
   "execution_count": 2,
   "metadata": {},
   "outputs": [
    {
     "output_type": "stream",
     "name": "stdout",
     "text": [
      "Nalgas\nNalgas\nNalgas\nNalgas\nNalgas\nNalgas\nNalgas\nNalgas\nNalgas\nNalgas\n"
     ]
    }
   ],
   "source": [
    "n = 0\n",
    "while n < 10:\n",
    "    print(\"Nalgas\")\n",
    "    n = n + 1"
   ]
  },
  {
   "cell_type": "code",
   "execution_count": 3,
   "metadata": {},
   "outputs": [
    {
     "output_type": "stream",
     "name": "stdout",
     "text": [
      "Nalgas\nNalgas\nNalgas\n"
     ]
    }
   ],
   "source": [
    "for i  in range(int(input(\"Ingrese limite\"))):\n",
    "    print(\"Nalgas\")\n",
    "#final    "
   ]
  },
  {
   "cell_type": "code",
   "execution_count": 4,
   "metadata": {},
   "outputs": [
    {
     "output_type": "stream",
     "name": "stdout",
     "text": [
      "1\n2.3\nHola Mundo xd\n"
     ]
    }
   ],
   "source": [
    "#Pedir datos\n",
    "#Entero\n",
    "varEntero = int(input(\"Numero: \"))\n",
    "#float\n",
    "varFloat = float(input(\"Numero float\"))\n",
    "#string\n",
    "varCadena = input(\"Ingrese cadena de texto\")\n",
    "#Mostrar datos\n",
    "print(varEntero)\n",
    "print(varFloat)\n",
    "print(varCadena)"
   ]
  },
  {
   "cell_type": "code",
   "execution_count": null,
   "metadata": {},
   "outputs": [],
   "source": []
  }
 ]
}